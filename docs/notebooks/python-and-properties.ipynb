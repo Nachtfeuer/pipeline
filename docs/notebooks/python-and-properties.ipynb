{
 "cells": [
  {
   "cell_type": "markdown",
   "metadata": {},
   "source": [
    "# Properties\n",
    "\n",
    "For properties using the decorator mechanism it is essential that you use the **same** name for the getter and the setter. The advantage of properties are two aspects:\n",
    " - the client code using the properties have a simple interface (the real setter and getter are hidden)\n",
    " - read and write access allow additonal operation like verification and/or conversion"
   ]
  },
  {
   "cell_type": "code",
   "execution_count": 23,
   "metadata": {},
   "outputs": [
    {
     "name": "stdout",
     "output_type": "stream",
     "text": [
      "foo.value is 1234\n",
      "foo.value is 4321\n"
     ]
    }
   ],
   "source": [
    "from contracts import contract\n",
    "\n",
    "class Foo(object):\n",
    "    @contract(init_value='int,>=0')\n",
    "    def __init__(self, init_value):\n",
    "        self.__value = init_value\n",
    "\n",
    "    @property\n",
    "    @contract(returns='int,>=0')\n",
    "    def value(self):\n",
    "        return self.__value\n",
    "\n",
    "    @value.setter\n",
    "    @contract(new_value='int,>=0')\n",
    "    def value(self, new_value):\n",
    "        self.__value = new_value\n",
    "\n",
    "foo = Foo(1234)\n",
    "print(\"foo.value is %s\" % foo.value)\n",
    "foo.value = 4321\n",
    "print(\"foo.value is %s\" % foo.value)"
   ]
  },
  {
   "cell_type": "code",
   "execution_count": null,
   "metadata": {},
   "outputs": [],
   "source": []
  }
 ],
 "metadata": {
  "kernelspec": {
   "display_name": "Python 2",
   "language": "python",
   "name": "python2"
  },
  "language_info": {
   "codemirror_mode": {
    "name": "ipython",
    "version": 2
   },
   "file_extension": ".py",
   "mimetype": "text/x-python",
   "name": "python",
   "nbconvert_exporter": "python",
   "pygments_lexer": "ipython2",
   "version": "2.7.13"
  }
 },
 "nbformat": 4,
 "nbformat_minor": 2
}
