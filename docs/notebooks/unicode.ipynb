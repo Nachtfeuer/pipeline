{
 "cells": [
  {
   "cell_type": "code",
   "execution_count": 20,
   "metadata": {},
   "outputs": [
    {
     "data": {
      "text/plain": [
       "2"
      ]
     },
     "execution_count": 20,
     "metadata": {},
     "output_type": "execute_result"
    }
   ],
   "source": [
    "import sys\n",
    "sys.version_info.major"
   ]
  },
  {
   "cell_type": "code",
   "execution_count": 11,
   "metadata": {},
   "outputs": [
    {
     "name": "stdout",
     "output_type": "stream",
     "text": [
      "€®©Ʃ\n",
      "<type 'unicode'>\n",
      "€®©Ʃ\n",
      "<type 'str'>\n"
     ]
    }
   ],
   "source": [
    "some_text = u'€®©Ʃ'\n",
    "print(some_text)\n",
    "print(type(some_text))\n",
    "\n",
    "encoded_some_text = some_text.encode('utf-8')\n",
    "print(encoded_some_text)\n",
    "print(type(encoded_some_text))\n",
    "\n",
    "# Output in Python 3:\n",
    "# €®©Ʃ\n",
    "# <class 'str'>\n",
    "# b'\\xe2\\x82\\xac\\xc2\\xae\\xc2\\xa9\\xc6\\xa9'\n",
    "# <class 'bytes'>"
   ]
  },
  {
   "cell_type": "code",
   "execution_count": 26,
   "metadata": {},
   "outputs": [
    {
     "name": "stdout",
     "output_type": "stream",
     "text": [
      "€®©Ʃ\n",
      "€®©Ʃ\n"
     ]
    }
   ],
   "source": [
    "import os\n",
    "\n",
    "to_file_map = {2: lambda s: s.encode('utf-8'), 3: lambda s: s}\n",
    "\n",
    "with open('/tmp/some_text', 'w') as handle:\n",
    "    handle.write(to_file_map[sys.version_info.major](some_text))\n",
    "    handle.write('\\n')\n",
    "    \n",
    "for line in os.popen('cat /tmp/some_text'): \n",
    "    print(line[0: -1])\n",
    "    \n",
    "for line in open('/tmp/some_text'):\n",
    "    print(line[0: -1])\n",
    "    \n",
    "# Directly on Bash\n",
    "# $ cat /tmp/some_text \n",
    "# €®©Ʃ"
   ]
  },
  {
   "cell_type": "code",
   "execution_count": null,
   "metadata": {},
   "outputs": [],
   "source": []
  }
 ],
 "metadata": {
  "kernelspec": {
   "display_name": "Python 2",
   "language": "python",
   "name": "python2"
  },
  "language_info": {
   "codemirror_mode": {
    "name": "ipython",
    "version": 2
   },
   "file_extension": ".py",
   "mimetype": "text/x-python",
   "name": "python",
   "nbconvert_exporter": "python",
   "pygments_lexer": "ipython2",
   "version": "2.7.13"
  }
 },
 "nbformat": 4,
 "nbformat_minor": 2
}
