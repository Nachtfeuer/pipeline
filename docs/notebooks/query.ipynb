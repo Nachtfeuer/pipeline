{
 "cells": [
  {
   "cell_type": "code",
   "execution_count": 28,
   "metadata": {},
   "outputs": [
    {
     "name": "stdout",
     "output_type": "stream",
     "text": [
      "[2, 4]\n",
      "[2, 4]\n"
     ]
    }
   ],
   "source": [
    "class Select(object):\n",
    "    def __init__(self, *args):\n",
    "        self.sequence = Select.flatten(*args)\n",
    "        self.filter_functions = []\n",
    "\n",
    "    @staticmethod\n",
    "    def flatten(*sequence):\n",
    "        result = []\n",
    "        for entry in sequence:\n",
    "            if isinstance(entry, list):\n",
    "                result +=Select.flatten(*entry)\n",
    "            elif isinstance(entry, tuple):\n",
    "                result +=Select.flatten(*entry)\n",
    "            else:\n",
    "                result.append(entry)\n",
    "        return result\n",
    "\n",
    "    def where(self, filter_function):\n",
    "        \"\"\"Register a filter function.\"\"\"\n",
    "        self.filter_functions.append(filter_function)\n",
    "        return self\n",
    "\n",
    "    def build(self):\n",
    "        result = []\n",
    "        for entry in self.sequence:\n",
    "            ignore = False\n",
    "            for filter_function in self.filter_functions:\n",
    "                if not filter_function(entry):\n",
    "                    ignore = True\n",
    "                    break\n",
    "            if not ignore:\n",
    "                result.append(entry)\n",
    "        return result\n",
    "\n",
    "print(Select(1, 2, 3, 4).where(lambda n: n % 2 == 0).build())\n",
    "print(Select([1, 2, 3, 4]).where(lambda n: n % 2 == 0).build())"
   ]
  },
  {
   "cell_type": "code",
   "execution_count": null,
   "metadata": {},
   "outputs": [],
   "source": []
  }
 ],
 "metadata": {
  "kernelspec": {
   "display_name": "Python 2",
   "language": "python",
   "name": "python2"
  },
  "language_info": {
   "codemirror_mode": {
    "name": "ipython",
    "version": 2
   },
   "file_extension": ".py",
   "mimetype": "text/x-python",
   "name": "python",
   "nbconvert_exporter": "python",
   "pygments_lexer": "ipython2",
   "version": "2.7.13"
  }
 },
 "nbformat": 4,
 "nbformat_minor": 2
}
