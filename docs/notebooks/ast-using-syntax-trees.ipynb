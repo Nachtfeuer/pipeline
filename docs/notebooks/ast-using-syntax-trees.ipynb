{
 "cells": [
  {
   "cell_type": "code",
   "execution_count": 1,
   "metadata": {},
   "outputs": [
    {
     "name": "stdout",
     "output_type": "stream",
     "text": [
      "[<_ast.Module object at 0x7fb559f2b310>, <_ast.Expr object at 0x7fb559f2b390>, <_ast.BinOp object at 0x7fb559f2b3d0>, <_ast.Num object at 0x7fb559f2b410>, <_ast.Add object at 0x7fb5682cb5d0>, <_ast.Num object at 0x7fb559f2b450>]\n",
      "[<_ast.Module object at 0x7fb559f2b350>, <_ast.Expr object at 0x7fb559f2b410>, <_ast.Compare object at 0x7fb559f2b450>, <_ast.Num object at 0x7fb559f2b490>, <_ast.Eq object at 0x7fb5682cbe50>, <_ast.Num object at 0x7fb559f2b4d0>]\n"
     ]
    }
   ],
   "source": [
    "# https://docs.python.org/2/library/ast.html\n",
    "import ast\n",
    "\n",
    "print(list(ast.walk(ast.parse('2 + 3'))))\n",
    "print(list(ast.walk(ast.parse('2 == 3'))))"
   ]
  },
  {
   "cell_type": "code",
   "execution_count": 11,
   "metadata": {},
   "outputs": [
    {
     "name": "stdout",
     "output_type": "stream",
     "text": [
      "[<_ast.Module object at 0x7fb5596b3d90>, <_ast.Expr object at 0x7fb5596b3e10>, <_ast.Compare object at 0x7fb5596b3e90>, <_ast.Num object at 0x7fb5596b3ed0>, <_ast.Eq object at 0x7fb5682cbe50>, <_ast.Num object at 0x7fb5596b3f10>]\n",
      "2\n",
      "3\n"
     ]
    }
   ],
   "source": [
    "def validate_number(expression):\n",
    "    nodes = list(ast.walk(ast.parse(expression)))\n",
    "    print(nodes)\n",
    "    assert isinstance(nodes[1], ast.Expr)\n",
    "    assert isinstance(nodes[2], ast.Compare)\n",
    "    assert isinstance(nodes[2].ops[0], ast.Eq)\n",
    "    assert isinstance(nodes[3], ast.Num)\n",
    "    print(nodes[3].n)\n",
    "    assert isinstance(nodes[4], ast.Eq)\n",
    "    print(nodes[5].n)\n",
    "    \n",
    "validate_number('2 == 3')"
   ]
  },
  {
   "cell_type": "code",
   "execution_count": null,
   "metadata": {},
   "outputs": [],
   "source": []
  }
 ],
 "metadata": {
  "kernelspec": {
   "display_name": "Python 2",
   "language": "python",
   "name": "python2"
  },
  "language_info": {
   "codemirror_mode": {
    "name": "ipython",
    "version": 2
   },
   "file_extension": ".py",
   "mimetype": "text/x-python",
   "name": "python",
   "nbconvert_exporter": "python",
   "pygments_lexer": "ipython2",
   "version": "2.7.13"
  }
 },
 "nbformat": 4,
 "nbformat_minor": 2
}
